{
 "cells": [
  {
   "cell_type": "markdown",
   "id": "c78162c3-c198-405f-88f5-0f95c38f0fc4",
   "metadata": {},
   "source": [
    "#  Q1, Create a vehicle class with an init method having instance variables as name_of_vehicle, max_speed and average_of_vehicle."
   ]
  },
  {
   "cell_type": "markdown",
   "id": "78334d8d-66d5-4efa-81d8-45d058885be5",
   "metadata": {},
   "source": [
    "#  Ans :"
   ]
  },
  {
   "cell_type": "code",
   "execution_count": 4,
   "id": "b6ef7fa2-a648-41f6-98f2-f71b932ffbc5",
   "metadata": {},
   "outputs": [],
   "source": [
    "class Vehicle:\n",
    "    def __init__(self, name_of_vehicle, max_speed, average_of_vehicle):\n",
    "        self.name_of_vehicle = name_of_vehicle\n",
    "        self.max_speed = max_speed\n",
    "        self.average_of_vehicle = average_of_vehicle\n"
   ]
  },
  {
   "cell_type": "code",
   "execution_count": 9,
   "id": "94998d77-cf3f-4e18-9a85-7d61e578af19",
   "metadata": {},
   "outputs": [],
   "source": [
    "car = Vehicle(\"Tata neo\", 150, 45)\n"
   ]
  },
  {
   "cell_type": "code",
   "execution_count": 10,
   "id": "d8c4f142-4c8f-43f3-9f0f-9ecc60df4fed",
   "metadata": {},
   "outputs": [
    {
     "data": {
      "text/plain": [
       "150"
      ]
     },
     "execution_count": 10,
     "metadata": {},
     "output_type": "execute_result"
    }
   ],
   "source": [
    "car.max_speed"
   ]
  },
  {
   "cell_type": "markdown",
   "id": "fea686d3-6b51-456e-8db7-ec58652fab35",
   "metadata": {},
   "source": [
    "# Q2. Create a child class car from the vehicle class created in Que 1, which will inherit the vehicle class.\n",
    "# Create a method named seating_capacity which takes capacity as an argument and returns the name of the vehicle and its seating capacity."
   ]
  },
  {
   "cell_type": "markdown",
   "id": "f1c35c39-669f-4a1d-8079-95c59522e7a0",
   "metadata": {},
   "source": [
    "# Ans :"
   ]
  },
  {
   "cell_type": "code",
   "execution_count": 11,
   "id": "aacd9f23-1edc-48d1-9fe1-bddced79ba3a",
   "metadata": {},
   "outputs": [],
   "source": [
    "class Car(Vehicle):\n",
    "    def seating_capacity(self, capacity):\n",
    "        return f\"{self.name_of_vehicle} has a seating capacity of {capacity} passengers.\"\n"
   ]
  },
  {
   "cell_type": "code",
   "execution_count": 14,
   "id": "12b067e6-faa5-46ec-b2b5-e02c2f0328ba",
   "metadata": {},
   "outputs": [
    {
     "name": "stdout",
     "output_type": "stream",
     "text": [
      "Tata neo has a seating capacity of 3 passengers.\n"
     ]
    }
   ],
   "source": [
    "car1=Car(\"Tata neo\", 150, 45)\n",
    "print (car1.seating_capacity(3))"
   ]
  },
  {
   "cell_type": "markdown",
   "id": "66f859b3-26d7-4582-bda1-f4b878e21827",
   "metadata": {},
   "source": [
    "# Q3.What is multiple inheritance? Write a python code to demonstrate multiple inheritance."
   ]
  },
  {
   "cell_type": "markdown",
   "id": "ddf4a7db-77e3-4771-8cd2-03ca0c935e01",
   "metadata": {},
   "source": [
    "# Ans :"
   ]
  },
  {
   "cell_type": "markdown",
   "id": "a835db93-d69f-4c1c-b38b-38516c17eb8f",
   "metadata": {},
   "source": [
    "## Multiple inheritance is a feature of object-oriented programming where a subclass can inherit from multiple parent classes. This allows the subclass to inherit attributes and methods from all of its parent classes.\n",
    "\n",
    "## Here's an example of how to use multiple inheritance in Python:"
   ]
  },
  {
   "cell_type": "code",
   "execution_count": 18,
   "id": "d3e5be3c-a0bb-49e8-819c-041bb2377c54",
   "metadata": {},
   "outputs": [
    {
     "name": "stdout",
     "output_type": "stream",
     "text": [
      "Method A\n",
      "Method B\n",
      "Method C\n"
     ]
    }
   ],
   "source": [
    "class A:\n",
    "    def method_a(self):\n",
    "        print(\"Method A\")\n",
    "\n",
    "class B:\n",
    "    def method_b(self):\n",
    "        print(\"Method B\")\n",
    "\n",
    "class C(A, B):\n",
    "    def method_c(self):\n",
    "        print(\"Method C\")\n",
    "\n",
    "d = C()\n",
    "d.method_a() \n",
    "d.method_b() \n",
    "d.method_c() \n"
   ]
  },
  {
   "cell_type": "markdown",
   "id": "efbf3e35-2128-4ff5-9f5c-9beb6e72a19f",
   "metadata": {},
   "source": [
    "# Q4. What are getter and setter in python? Create a class and create a getter and a setter method in this class."
   ]
  },
  {
   "cell_type": "markdown",
   "id": "ba25bb9a-b81c-4283-9ceb-06b84fb656e1",
   "metadata": {},
   "source": [
    "# Ans :"
   ]
  },
  {
   "cell_type": "markdown",
   "id": "b68e66f6-b9ca-4aaf-8dcf-c7b53bfb068a",
   "metadata": {},
   "source": [
    "## In Python, getters and setters are methods that allow access to an object's attributes in a controlled way. Getters are used to get the value of an attribute, and setters are used to set the value of an attribute.\n",
    "\n",
    "## Example of a class with a getter and a setter method in Python:"
   ]
  },
  {
   "cell_type": "code",
   "execution_count": 19,
   "id": "08ce2ea6-faa6-452d-b44d-d5c7e29b7735",
   "metadata": {},
   "outputs": [],
   "source": [
    "class Person:\n",
    "    def __init__(self, name, age):\n",
    "        self._name = name\n",
    "        self._age = age\n",
    "\n",
    "    def get_name(self):\n",
    "        return self._name\n",
    "\n",
    "    def set_name(self, name):\n",
    "        self._name = name\n",
    "\n",
    "    def get_age(self):\n",
    "        return self._age\n",
    "\n",
    "    def set_age(self, age):\n",
    "        self._age = age\n"
   ]
  },
  {
   "cell_type": "code",
   "execution_count": 21,
   "id": "e0d383cf-8fa3-490c-b995-6e406f2e4821",
   "metadata": {},
   "outputs": [
    {
     "name": "stdout",
     "output_type": "stream",
     "text": [
      "John\n",
      "Jane\n",
      "30\n",
      "35\n"
     ]
    }
   ],
   "source": [
    "Person_obj = Person(\"John\", 30)\n",
    "print(Person_obj.get_name())\n",
    "Person_obj.set_name(\"Jane\")\n",
    "print(Person_obj.get_name())\n",
    "print(Person_obj.get_age()) \n",
    "Person_obj.set_age(35)\n",
    "print(Person_obj.get_age()) \n"
   ]
  },
  {
   "cell_type": "markdown",
   "id": "b194df0f-611d-4432-b7a0-5e5bef6e7f9a",
   "metadata": {},
   "source": [
    "# Q5.What is method overriding in python? Write a python code to demonstrate method overriding."
   ]
  },
  {
   "cell_type": "markdown",
   "id": "53954111-3ad5-4d3a-8745-995f1be67863",
   "metadata": {},
   "source": [
    "# Ans :"
   ]
  },
  {
   "cell_type": "markdown",
   "id": "9fe29907-3d6a-492a-bdd2-f2213b48acf2",
   "metadata": {},
   "source": [
    "## Method overriding is a feature of object-oriented programming where a subclass provides a different implementation of a method that is already defined in its parent class. This allows the subclass to override the behavior of the method inherited from its parent class.\n",
    "\n",
    "## Here's an example of how to use method overriding in Python:"
   ]
  },
  {
   "cell_type": "code",
   "execution_count": 22,
   "id": "335c1c06-1808-4d0b-b4e5-5af240047509",
   "metadata": {},
   "outputs": [
    {
     "name": "stdout",
     "output_type": "stream",
     "text": [
      "Starting the vehicle\n",
      "Starting the car\n"
     ]
    }
   ],
   "source": [
    "class Vehicle:\n",
    "    def start(self):\n",
    "        print(\"Starting the vehicle\")\n",
    "\n",
    "class Car(Vehicle):\n",
    "    def start(self):\n",
    "        print(\"Starting the car\")\n",
    "\n",
    "vehicle = Vehicle()\n",
    "vehicle.start() \n",
    "\n",
    "car = Car()\n",
    "car.start()\n"
   ]
  },
  {
   "cell_type": "markdown",
   "id": "dc2e807b-d57d-4a7c-8af1-6a2a11acbe8e",
   "metadata": {},
   "source": [
    "## In this example, we have a Vehicle class with a start method that prints \"Starting the vehicle\". We then define a Car class that inherits from Vehicle and overrides the start method with its own implementation that prints \"Starting the car\".\n",
    "\n",
    "## When we create an instance of Vehicle and call its start method, it prints \"Starting the vehicle\". However, when we create an instance of Car and call its start method, it prints \"Starting the car\". This is because the Car class has overridden the start method inherited from its parent class Vehicle.\n",
    "\n",
    "## Note that method overriding only works if the method has the same name in both the parent class and the subclass. If the method has a different name, then it's just a new method in the subclass and doesn't override the method in the parent class."
   ]
  },
  {
   "cell_type": "code",
   "execution_count": null,
   "id": "12ec5ae0-a4b1-44bd-b271-629860397ced",
   "metadata": {},
   "outputs": [],
   "source": []
  }
 ],
 "metadata": {
  "kernelspec": {
   "display_name": "Python 3 (ipykernel)",
   "language": "python",
   "name": "python3"
  },
  "language_info": {
   "codemirror_mode": {
    "name": "ipython",
    "version": 3
   },
   "file_extension": ".py",
   "mimetype": "text/x-python",
   "name": "python",
   "nbconvert_exporter": "python",
   "pygments_lexer": "ipython3",
   "version": "3.10.8"
  }
 },
 "nbformat": 4,
 "nbformat_minor": 5
}
